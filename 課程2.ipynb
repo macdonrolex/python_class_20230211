{
  "nbformat": 4,
  "nbformat_minor": 0,
  "metadata": {
    "colab": {
      "provenance": [],
      "toc_visible": true,
      "authorship_tag": "ABX9TyPK5PjLxZMsVYiIxA4AVBo+",
      "include_colab_link": true
    },
    "kernelspec": {
      "name": "python3",
      "display_name": "Python 3"
    },
    "language_info": {
      "name": "python"
    }
  },
  "cells": [
    {
      "cell_type": "markdown",
      "metadata": {
        "id": "view-in-github",
        "colab_type": "text"
      },
      "source": [
        "<a href=\"https://colab.research.google.com/github/macdonrolex/python_class_20230211/blob/main/%E8%AA%B2%E7%A8%8B2.ipynb\" target=\"_parent\"><img src=\"https://colab.research.google.com/assets/colab-badge.svg\" alt=\"Open In Colab\"/></a>"
      ]
    },
    {
      "cell_type": "markdown",
      "source": [
        "# 20230211\n"
      ],
      "metadata": {
        "id": "OgRUMK5qMdw-"
      }
    },
    {
      "cell_type": "markdown",
      "source": [
        "# 基本資料型態\n",
        "\n",
        "* int\n",
        "* float\n",
        "* bool\n",
        "* str\n",
        "\n",
        "使用 `type（變數）`可以檢查變數裡面的資料型態\n",
        "\n",
        "\n"
      ],
      "metadata": {
        "id": "K9HaH00tUKJe"
      }
    },
    {
      "cell_type": "markdown",
      "source": [
        "## 整數除法"
      ],
      "metadata": {
        "id": "B0S7n1frU5Ze"
      }
    },
    {
      "cell_type": "code",
      "source": [
        "x = 1"
      ],
      "metadata": {
        "id": "x8hsy6mEVuq4"
      },
      "execution_count": null,
      "outputs": []
    },
    {
      "cell_type": "code",
      "source": [
        "type(x)"
      ],
      "metadata": {
        "colab": {
          "base_uri": "https://localhost:8080/"
        },
        "id": "DL7aUTojWONa",
        "outputId": "71beab69-3b73-4aca-9757-d3e4f90aac09"
      },
      "execution_count": null,
      "outputs": [
        {
          "output_type": "execute_result",
          "data": {
            "text/plain": [
              "int"
            ]
          },
          "metadata": {},
          "execution_count": 3
        }
      ]
    },
    {
      "cell_type": "code",
      "source": [
        "y = 4/2"
      ],
      "metadata": {
        "id": "0FN7y9Y4XFoZ"
      },
      "execution_count": null,
      "outputs": []
    },
    {
      "cell_type": "code",
      "source": [
        "type(y)"
      ],
      "metadata": {
        "colab": {
          "base_uri": "https://localhost:8080/"
        },
        "id": "XYNx8_W6XITR",
        "outputId": "ff23eeae-d2ca-4c9d-92db-78fc27b861f9"
      },
      "execution_count": null,
      "outputs": [
        {
          "output_type": "execute_result",
          "data": {
            "text/plain": [
              "float"
            ]
          },
          "metadata": {},
          "execution_count": 5
        }
      ]
    },
    {
      "cell_type": "code",
      "source": [
        "z = 4 // 2"
      ],
      "metadata": {
        "id": "EOBCtWsIXNWK"
      },
      "execution_count": null,
      "outputs": []
    },
    {
      "cell_type": "code",
      "source": [
        "type(z)"
      ],
      "metadata": {
        "colab": {
          "base_uri": "https://localhost:8080/"
        },
        "id": "nwott-c7XP_0",
        "outputId": "913bc1db-970d-4361-f641-d0e66b0553b1"
      },
      "execution_count": null,
      "outputs": [
        {
          "output_type": "execute_result",
          "data": {
            "text/plain": [
              "int"
            ]
          },
          "metadata": {},
          "execution_count": 8
        }
      ]
    },
    {
      "cell_type": "markdown",
      "source": [
        "## 次方"
      ],
      "metadata": {
        "id": "df2lrB8fXWsw"
      }
    },
    {
      "cell_type": "code",
      "source": [
        "2 ** 2"
      ],
      "metadata": {
        "colab": {
          "base_uri": "https://localhost:8080/"
        },
        "id": "VDx3ZD04XZz6",
        "outputId": "c7ec7d2e-0ac7-43b8-f6a0-cd7b93d327d7"
      },
      "execution_count": null,
      "outputs": [
        {
          "output_type": "execute_result",
          "data": {
            "text/plain": [
              "4"
            ]
          },
          "metadata": {},
          "execution_count": 9
        }
      ]
    },
    {
      "cell_type": "markdown",
      "source": [
        "## 什麼是 bool ？"
      ],
      "metadata": {
        "id": "M0reRjwgXhDj"
      }
    },
    {
      "cell_type": "code",
      "source": [
        "3 > 2"
      ],
      "metadata": {
        "colab": {
          "base_uri": "https://localhost:8080/"
        },
        "id": "fIOL8VC_Xoqc",
        "outputId": "faa5ca7c-f9c7-48a6-fda2-d845f97b1b49"
      },
      "execution_count": null,
      "outputs": [
        {
          "output_type": "execute_result",
          "data": {
            "text/plain": [
              "True"
            ]
          },
          "metadata": {},
          "execution_count": 10
        }
      ]
    },
    {
      "cell_type": "code",
      "source": [
        "#True在加法會自動轉換成數字\n",
        "True + True "
      ],
      "metadata": {
        "colab": {
          "base_uri": "https://localhost:8080/"
        },
        "id": "hFUs3ZLlX5LS",
        "outputId": "10048b6b-067b-449e-da40-d1c677cdc014"
      },
      "execution_count": null,
      "outputs": [
        {
          "output_type": "execute_result",
          "data": {
            "text/plain": [
              "2"
            ]
          },
          "metadata": {},
          "execution_count": 11
        }
      ]
    },
    {
      "cell_type": "code",
      "source": [
        "True + False"
      ],
      "metadata": {
        "colab": {
          "base_uri": "https://localhost:8080/"
        },
        "id": "UJmnqXJCYFnW",
        "outputId": "5943a3cd-3e11-49c7-95f2-57ac3c992130"
      },
      "execution_count": null,
      "outputs": [
        {
          "output_type": "execute_result",
          "data": {
            "text/plain": [
              "1"
            ]
          },
          "metadata": {},
          "execution_count": 12
        }
      ]
    },
    {
      "cell_type": "code",
      "source": [
        "#比較兩個變數內的值有沒有相等\n",
        "x == z"
      ],
      "metadata": {
        "colab": {
          "base_uri": "https://localhost:8080/"
        },
        "id": "f9fEe6_oYdSO",
        "outputId": "56f07802-5956-46ee-b661-7483522ea2cc"
      },
      "execution_count": null,
      "outputs": [
        {
          "output_type": "execute_result",
          "data": {
            "text/plain": [
              "False"
            ]
          },
          "metadata": {},
          "execution_count": 13
        }
      ]
    },
    {
      "cell_type": "markdown",
      "source": [
        "## 關於字串\n",
        "https://github.com/vcdemy/python_basics/blob/main/字串.md"
      ],
      "metadata": {
        "id": "ZtEopq6uZJLt"
      }
    },
    {
      "cell_type": "code",
      "source": [
        "w = \"dog\""
      ],
      "metadata": {
        "id": "JzQ3EJG9ZNBR"
      },
      "execution_count": null,
      "outputs": []
    },
    {
      "cell_type": "code",
      "source": [
        "u = \"It's my dog\"\n",
        "# \\跳脫字元\n",
        "k = 'It\\'s my dog'"
      ],
      "metadata": {
        "id": "-t2kAqJ6ZxbT"
      },
      "execution_count": null,
      "outputs": []
    },
    {
      "cell_type": "markdown",
      "source": [
        "### 字串的加法(+)跟乘法(*)\n"
      ],
      "metadata": {
        "id": "hHN8VAeVfZBU"
      }
    },
    {
      "cell_type": "code",
      "source": [
        "\"abc\" + \"3\""
      ],
      "metadata": {
        "id": "LWipgJZlfnIw"
      },
      "execution_count": null,
      "outputs": []
    },
    {
      "cell_type": "code",
      "source": [
        "\"abc\" * 3"
      ],
      "metadata": {
        "colab": {
          "base_uri": "https://localhost:8080/",
          "height": 35
        },
        "id": "rqCpHnAmfscH",
        "outputId": "f484497f-f201-42a7-da7e-6bd814237c50"
      },
      "execution_count": null,
      "outputs": [
        {
          "output_type": "execute_result",
          "data": {
            "text/plain": [
              "'abcabcabc'"
            ],
            "application/vnd.google.colaboratory.intrinsic+json": {
              "type": "string"
            }
          },
          "metadata": {},
          "execution_count": 19
        }
      ]
    },
    {
      "cell_type": "markdown",
      "source": [
        "###練習：使用字串畫出以下金字塔\n",
        "\n",
        "```\n",
        "    *\n",
        "   ***\n",
        "  *****\n",
        " *******\n",
        "*********\n",
        "```"
      ],
      "metadata": {
        "id": "wXGyrWAVfyPG"
      }
    },
    {
      "cell_type": "code",
      "source": [
        "for i in range(5):\n",
        "  print(i)"
      ],
      "metadata": {
        "colab": {
          "base_uri": "https://localhost:8080/"
        },
        "id": "ua6FI8FhgIrs",
        "outputId": "ba7b5de5-5f60-4435-eaef-9a19dfb8c9a1"
      },
      "execution_count": null,
      "outputs": [
        {
          "output_type": "stream",
          "name": "stdout",
          "text": [
            "0\n",
            "1\n",
            "2\n",
            "3\n",
            "4\n"
          ]
        }
      ]
    },
    {
      "cell_type": "code",
      "source": [
        "for i in range(3):\n",
        "  print(\"程式區塊開始\")\n",
        "  print(i)\n",
        "print(\"End\")"
      ],
      "metadata": {
        "colab": {
          "base_uri": "https://localhost:8080/"
        },
        "id": "6Rr823RFgWmn",
        "outputId": "62ec13e9-758f-4b03-f46b-fe358170d122"
      },
      "execution_count": null,
      "outputs": [
        {
          "output_type": "stream",
          "name": "stdout",
          "text": [
            "程式區塊開始\n",
            "0\n",
            "程式區塊開始\n",
            "1\n",
            "程式區塊開始\n",
            "2\n",
            "End\n"
          ]
        }
      ]
    },
    {
      "cell_type": "code",
      "source": [
        "for i in range(5):\n",
        "  print(2*i+1)"
      ],
      "metadata": {
        "colab": {
          "base_uri": "https://localhost:8080/"
        },
        "id": "79HVMRd8hm7U",
        "outputId": "6981ff6c-872f-48d2-9dc6-9788f2fe6e5f"
      },
      "execution_count": null,
      "outputs": [
        {
          "output_type": "stream",
          "name": "stdout",
          "text": [
            "1\n",
            "3\n",
            "5\n",
            "7\n",
            "9\n"
          ]
        }
      ]
    },
    {
      "cell_type": "code",
      "source": [
        "for i in range(5):\n",
        "  print((2*i+1) * \"*\")"
      ],
      "metadata": {
        "colab": {
          "base_uri": "https://localhost:8080/"
        },
        "id": "M35QEfP2iGnU",
        "outputId": "d92d22ff-5c2e-4fac-d088-647228f70848"
      },
      "execution_count": null,
      "outputs": [
        {
          "output_type": "stream",
          "name": "stdout",
          "text": [
            "*\n",
            "***\n",
            "*****\n",
            "*******\n",
            "*********\n"
          ]
        }
      ]
    },
    {
      "cell_type": "code",
      "source": [
        "for i in range(5):\n",
        "  print(i * \" \" + (2*i+1) * \"*\")"
      ],
      "metadata": {
        "colab": {
          "base_uri": "https://localhost:8080/"
        },
        "id": "ZXO1RIbgiOyz",
        "outputId": "cd594393-7201-48ed-d04c-4f72af000313"
      },
      "execution_count": null,
      "outputs": [
        {
          "output_type": "stream",
          "name": "stdout",
          "text": [
            "*\n",
            " ***\n",
            "  *****\n",
            "   *******\n",
            "    *********\n"
          ]
        }
      ]
    },
    {
      "cell_type": "code",
      "source": [
        "for i in range(5):\n",
        "  print((4-i) * \" \" + (2*i+1) * \"*\")"
      ],
      "metadata": {
        "colab": {
          "base_uri": "https://localhost:8080/"
        },
        "id": "_wp9K9r_ioOd",
        "outputId": "24e3162c-76ef-4d0f-83de-2b206c2a3bdf"
      },
      "execution_count": null,
      "outputs": [
        {
          "output_type": "stream",
          "name": "stdout",
          "text": [
            "    *\n",
            "   ***\n",
            "  *****\n",
            " *******\n",
            "*********\n"
          ]
        }
      ]
    },
    {
      "cell_type": "code",
      "source": [
        "for i in range(5):\n",
        "  print((4-i) * \" \" + (2*i+1) * \"*\")\n",
        "\n",
        "for i in range(2):\n",
        "  print((3 * \" \") + \"*\" * 3)"
      ],
      "metadata": {
        "colab": {
          "base_uri": "https://localhost:8080/"
        },
        "id": "ho0aVsLZjh18",
        "outputId": "a0e74ab4-d9e4-4e46-d292-128c2b5960e5"
      },
      "execution_count": null,
      "outputs": [
        {
          "output_type": "stream",
          "name": "stdout",
          "text": [
            "    *\n",
            "   ***\n",
            "  *****\n",
            " *******\n",
            "*********\n",
            "   ***\n",
            "   ***\n"
          ]
        }
      ]
    },
    {
      "cell_type": "markdown",
      "source": [
        "# input() 及 print()\n",
        "\n",
        "input()：用來讀取輸入\n",
        "\n",
        "print()：用來印出輸出"
      ],
      "metadata": {
        "id": "K96mgcphkxUh"
      }
    },
    {
      "cell_type": "code",
      "source": [
        "x = input(\"請輸入一個數字：\")"
      ],
      "metadata": {
        "colab": {
          "base_uri": "https://localhost:8080/"
        },
        "id": "aT4IZSqok5YZ",
        "outputId": "265afa7e-a1a3-4054-d14b-36a10d5f6341"
      },
      "execution_count": null,
      "outputs": [
        {
          "name": "stdout",
          "output_type": "stream",
          "text": [
            "請輸入一個數字：8\n"
          ]
        }
      ]
    },
    {
      "cell_type": "code",
      "source": [
        "type(x)"
      ],
      "metadata": {
        "colab": {
          "base_uri": "https://localhost:8080/"
        },
        "id": "38-9pxEUlLxw",
        "outputId": "1ab80ccd-c6d5-471e-c76e-fd408eb8fad5"
      },
      "execution_count": null,
      "outputs": [
        {
          "output_type": "execute_result",
          "data": {
            "text/plain": [
              "str"
            ]
          },
          "metadata": {},
          "execution_count": 39
        }
      ]
    },
    {
      "cell_type": "code",
      "source": [
        "print(x)"
      ],
      "metadata": {
        "colab": {
          "base_uri": "https://localhost:8080/"
        },
        "id": "zEasU8m3lYZK",
        "outputId": "b8be42f7-5eea-4125-be50-ec862555c8e1"
      },
      "execution_count": null,
      "outputs": [
        {
          "output_type": "stream",
          "name": "stdout",
          "text": [
            "8\n"
          ]
        }
      ]
    },
    {
      "cell_type": "code",
      "source": [
        "x = 1\n",
        "y = 2 \n",
        "z = 3\n",
        "print(x, y, z, sep = \"\")"
      ],
      "metadata": {
        "colab": {
          "base_uri": "https://localhost:8080/"
        },
        "id": "b_jxzSJflxh9",
        "outputId": "f46c5855-0fee-4476-a6ff-80510091f623"
      },
      "execution_count": null,
      "outputs": [
        {
          "output_type": "stream",
          "name": "stdout",
          "text": [
            "123\n"
          ]
        }
      ]
    },
    {
      "cell_type": "markdown",
      "source": [
        "# 基礎容器型別\n",
        "\n",
        "* list\n",
        "* tuple\n",
        "* dict\n",
        "* set\n",
        "\n"
      ],
      "metadata": {
        "id": "VN85oIewn0GW"
      }
    },
    {
      "cell_type": "markdown",
      "source": [
        "## list"
      ],
      "metadata": {
        "id": "ScItFqgf4v9Q"
      }
    },
    {
      "cell_type": "code",
      "source": [
        "x = [\"a\", \"b\", \"c\", \"d\", \"e\"]"
      ],
      "metadata": {
        "id": "AUXCOTYt4yxD"
      },
      "execution_count": null,
      "outputs": []
    },
    {
      "cell_type": "code",
      "source": [
        "# 快速寫法\n",
        "y = list(\"abcde\")"
      ],
      "metadata": {
        "id": "miT4ciiz5D7e"
      },
      "execution_count": null,
      "outputs": []
    },
    {
      "cell_type": "code",
      "source": [
        "x[0]"
      ],
      "metadata": {
        "colab": {
          "base_uri": "https://localhost:8080/",
          "height": 35
        },
        "id": "dWtmtwcA5MOQ",
        "outputId": "1af4f420-9d76-4597-fae1-58433405b1b4"
      },
      "execution_count": null,
      "outputs": [
        {
          "output_type": "execute_result",
          "data": {
            "text/plain": [
              "'a'"
            ],
            "application/vnd.google.colaboratory.intrinsic+json": {
              "type": "string"
            }
          },
          "metadata": {},
          "execution_count": 44
        }
      ]
    },
    {
      "cell_type": "code",
      "source": [
        "# 回傳 list 裡面有幾個有幾個 items\n",
        "len(x)"
      ],
      "metadata": {
        "colab": {
          "base_uri": "https://localhost:8080/"
        },
        "id": "v-nYOszR5VRG",
        "outputId": "30097bcb-8db8-41d7-d40b-8674c6883285"
      },
      "execution_count": null,
      "outputs": [
        {
          "output_type": "execute_result",
          "data": {
            "text/plain": [
              "5"
            ]
          },
          "metadata": {},
          "execution_count": 45
        }
      ]
    },
    {
      "cell_type": "code",
      "source": [
        "url = \"https://wallpapercave.com/wp/lUWJtEd.jpg\""
      ],
      "metadata": {
        "id": "Fo8ludRX591q"
      },
      "execution_count": null,
      "outputs": []
    },
    {
      "cell_type": "code",
      "source": [
        "# 方法(method）後面加上問號，執行後可以顯示說明查詢功能\n",
        "url.split?"
      ],
      "metadata": {
        "id": "lZKMYHs36CIY"
      },
      "execution_count": null,
      "outputs": []
    },
    {
      "cell_type": "code",
      "source": [
        "# 以 \"/\" 來分割字串\n",
        "url.split(\"/\")"
      ],
      "metadata": {
        "colab": {
          "base_uri": "https://localhost:8080/",
          "height": 35
        },
        "id": "3sRHKRua6ii-",
        "outputId": "77dd3871-0f1a-4171-f6d9-1f5f5e079cef"
      },
      "execution_count": null,
      "outputs": [
        {
          "output_type": "execute_result",
          "data": {
            "text/plain": [
              "'lUWJtEd.jpg'"
            ],
            "application/vnd.google.colaboratory.intrinsic+json": {
              "type": "string"
            }
          },
          "metadata": {},
          "execution_count": 49
        }
      ]
    },
    {
      "cell_type": "code",
      "source": [
        "# 分割後取得最後一個一個item\n",
        "url.split(\"/\")[-1]"
      ],
      "metadata": {
        "id": "Cg6K_Uxt7eAB"
      },
      "execution_count": null,
      "outputs": []
    },
    {
      "cell_type": "markdown",
      "source": [
        "### 如何取得 list 中前幾個或後幾個後幾個 items"
      ],
      "metadata": {
        "id": "WCsQl_PK766a"
      }
    },
    {
      "cell_type": "code",
      "source": [
        "# 顯示前三個 items \n",
        "x[:3]"
      ],
      "metadata": {
        "colab": {
          "base_uri": "https://localhost:8080/"
        },
        "id": "22Z7Qaa376Tk",
        "outputId": "afb0c925-d9d2-497b-83e1-f4cfc04cda16"
      },
      "execution_count": null,
      "outputs": [
        {
          "output_type": "execute_result",
          "data": {
            "text/plain": [
              "['a', 'b', 'c']"
            ]
          },
          "metadata": {},
          "execution_count": 50
        }
      ]
    },
    {
      "cell_type": "code",
      "source": [
        "# 顯示後三個 items \n",
        "x[-3:]"
      ],
      "metadata": {
        "colab": {
          "base_uri": "https://localhost:8080/"
        },
        "id": "CrNZfbzF8XLU",
        "outputId": "3dc14bd8-a0c6-4f70-bfe3-7dd3fad41510"
      },
      "execution_count": null,
      "outputs": [
        {
          "output_type": "execute_result",
          "data": {
            "text/plain": [
              "['c', 'd', 'e']"
            ]
          },
          "metadata": {},
          "execution_count": 51
        }
      ]
    },
    {
      "cell_type": "markdown",
      "source": [
        "## dict"
      ],
      "metadata": {
        "id": "HxX8mNVi8jIN"
      }
    },
    {
      "cell_type": "code",
      "source": [
        "# 建立一個空字典\n",
        "d = {}"
      ],
      "metadata": {
        "id": "h0C0BpXq8mPK"
      },
      "execution_count": null,
      "outputs": []
    },
    {
      "cell_type": "code",
      "source": [
        "# 加入一筆資料\n",
        "d[\"cat\"] = \"貓咪\""
      ],
      "metadata": {
        "id": "VHw4NS3B86Gj"
      },
      "execution_count": null,
      "outputs": []
    },
    {
      "cell_type": "code",
      "source": [
        "d"
      ],
      "metadata": {
        "colab": {
          "base_uri": "https://localhost:8080/"
        },
        "id": "GOGR7X689BGs",
        "outputId": "3cf4b022-3c51-4c44-ea12-acc12c255aaf"
      },
      "execution_count": 76,
      "outputs": [
        {
          "output_type": "execute_result",
          "data": {
            "text/plain": [
              "{'cat': '貓貓', 'dog': '狗狗'}"
            ]
          },
          "metadata": {},
          "execution_count": 76
        }
      ]
    },
    {
      "cell_type": "code",
      "source": [
        "# 加入第二筆資料加入第二筆資料\n",
        "d[\"dog\"] = \"狗狗\""
      ],
      "metadata": {
        "id": "8ZxOWRoi9V7v"
      },
      "execution_count": null,
      "outputs": []
    },
    {
      "cell_type": "code",
      "source": [
        "# 差資料\n",
        "d[\"cat\"]"
      ],
      "metadata": {
        "colab": {
          "base_uri": "https://localhost:8080/",
          "height": 35
        },
        "id": "t8GYJiQw9k57",
        "outputId": "ea66e0d5-b995-481d-c252-ed8a725f69f9"
      },
      "execution_count": null,
      "outputs": [
        {
          "output_type": "execute_result",
          "data": {
            "text/plain": [
              "'貓咪'"
            ],
            "application/vnd.google.colaboratory.intrinsic+json": {
              "type": "string"
            }
          },
          "metadata": {},
          "execution_count": 57
        }
      ]
    },
    {
      "cell_type": "markdown",
      "source": [
        "## for 迴圈與 list 及 dict 的合用"
      ],
      "metadata": {
        "id": "2VeClHbh-zjc"
      }
    },
    {
      "cell_type": "code",
      "source": [
        "x = [\"a\", \"b\", \"c\", \"d\", \"e\"]"
      ],
      "metadata": {
        "id": "a1SPFR79--1C"
      },
      "execution_count": null,
      "outputs": []
    },
    {
      "cell_type": "code",
      "source": [
        "# for 迴圈跟 list 合用\n",
        "for i in x:\n",
        "  print(i)"
      ],
      "metadata": {
        "colab": {
          "base_uri": "https://localhost:8080/"
        },
        "id": "S5gOjdJC_SFg",
        "outputId": "806e14dc-f6b5-4255-ccf7-262f3e26f19d"
      },
      "execution_count": null,
      "outputs": [
        {
          "output_type": "stream",
          "name": "stdout",
          "text": [
            "a\n",
            "b\n",
            "c\n",
            "d\n",
            "e\n"
          ]
        }
      ]
    },
    {
      "cell_type": "code",
      "source": [
        "# for 迴圈跟 dict 合用\n",
        "d = {\"cat\" : \"貓貓\", \"dog\" : \"狗狗\"}\n",
        "for i in d:\n",
        "  print(i)"
      ],
      "metadata": {
        "colab": {
          "base_uri": "https://localhost:8080/"
        },
        "id": "OhX5MYHS_tfy",
        "outputId": "5d527e46-84f9-408f-ad6e-d94bd8f1104f"
      },
      "execution_count": null,
      "outputs": [
        {
          "output_type": "stream",
          "name": "stdout",
          "text": [
            "cat\n",
            "dog\n"
          ]
        }
      ]
    },
    {
      "cell_type": "code",
      "source": [
        "for i in d:\n",
        "  print(d[i])"
      ],
      "metadata": {
        "colab": {
          "base_uri": "https://localhost:8080/"
        },
        "id": "spxgQZuTAdiE",
        "outputId": "52fd028c-7f0b-4314-bc41-7e2ac2418e2b"
      },
      "execution_count": null,
      "outputs": [
        {
          "output_type": "stream",
          "name": "stdout",
          "text": [
            "貓貓\n",
            "狗狗\n"
          ]
        }
      ]
    },
    {
      "cell_type": "code",
      "source": [
        "for i in d:\n",
        "  print(i, \":\", d[i])"
      ],
      "metadata": {
        "colab": {
          "base_uri": "https://localhost:8080/"
        },
        "id": "QspGlRmbAiQA",
        "outputId": "c688975b-507f-4076-c1a3-6ef52b2ca0be"
      },
      "execution_count": null,
      "outputs": [
        {
          "output_type": "stream",
          "name": "stdout",
          "text": [
            "cat : 貓貓\n",
            "dog : 狗狗\n"
          ]
        }
      ]
    },
    {
      "cell_type": "markdown",
      "source": [
        "# 爬蟲"
      ],
      "metadata": {
        "id": "ercJmHGEMe5S"
      }
    },
    {
      "cell_type": "markdown",
      "source": [
        "## 使用 requests 抓取網路資料\n",
        "\n"
      ],
      "metadata": {
        "id": "uA36uZBtMri4"
      }
    },
    {
      "cell_type": "markdown",
      "source": [
        "### 抓取網頁原始碼"
      ],
      "metadata": {
        "id": "lVBjoGQVNb2b"
      }
    },
    {
      "cell_type": "code",
      "source": [
        "url = \"https://victorgau.github.io/khpy_web_intro/html_only.html\"\n",
        "\n",
        "# 載入 requests 用來抓取網路上的資料\n",
        "import requests\n",
        "\n",
        "# 取得特定網址的網頁原始碼，並將回傳的內容（包含 headers）放入變數）放入變數r\n",
        "r = requests.get(url)\n",
        "\n",
        "# 印出回傳值中的 .text 的部分（即網頁原始碼）\n",
        "print(r.text)"
      ],
      "metadata": {
        "colab": {
          "base_uri": "https://localhost:8080/"
        },
        "id": "qZeyx3TeM3Xg",
        "outputId": "f0f45d48-d48e-4024-85e4-97c488a23f51"
      },
      "execution_count": null,
      "outputs": [
        {
          "output_type": "stream",
          "name": "stdout",
          "text": [
            "<!DOCTYPE html>\n",
            "<html>\n",
            "<head>\n",
            "    <title>HTML範例</title>\n",
            "</head>\n",
            "<body>\n",
            "\n",
            "<h1>哈囉！HTML！</h1>\n",
            "\n",
            "<img src=\"ninja.jpg\" />\n",
            "\n",
            "</body>\n",
            "</html>\n"
          ]
        }
      ]
    },
    {
      "cell_type": "markdown",
      "source": [
        "### 使用requests呼叫web API，寫一個中文字典\n",
        "\n",
        "萌典API: https://github.com/g0v/moedict-webkit\n",
        "\n",
        "API : Application Programming Interface\n",
        "\n",
        "API 是一個提供給應用程式（Application）使用程式（Program）來存取特定服務的介面（Interface）。"
      ],
      "metadata": {
        "id": "2Pz9nshTPJqD"
      }
    },
    {
      "cell_type": "markdown",
      "source": [
        "#### 方法一"
      ],
      "metadata": {
        "id": "lGGIN_b4QxNo"
      }
    },
    {
      "cell_type": "code",
      "source": [
        "import requests\n",
        "import json\n",
        "q = \"教室\"\n",
        "url = \"https://www.moedict.tw/uni/\" + q"
      ],
      "metadata": {
        "id": "1n6i1LLPQAbx"
      },
      "execution_count": null,
      "outputs": []
    },
    {
      "cell_type": "code",
      "source": [
        "url"
      ],
      "metadata": {
        "colab": {
          "base_uri": "https://localhost:8080/",
          "height": 35
        },
        "id": "pUKIG_arRhI2",
        "outputId": "b16e9b03-2a25-48c6-8f74-ec75f487af6e"
      },
      "execution_count": null,
      "outputs": [
        {
          "output_type": "execute_result",
          "data": {
            "text/plain": [
              "'https://www.moedict.tw/uni/教室'"
            ],
            "application/vnd.google.colaboratory.intrinsic+json": {
              "type": "string"
            }
          },
          "metadata": {},
          "execution_count": 68
        }
      ]
    },
    {
      "cell_type": "code",
      "source": [
        "r = requests.get(url)\n",
        "print(r.text)"
      ],
      "metadata": {
        "colab": {
          "base_uri": "https://localhost:8080/"
        },
        "id": "-22hmAFWRgAQ",
        "outputId": "bc7ebd17-48a2-477a-b116-76671b83ce33"
      },
      "execution_count": null,
      "outputs": [
        {
          "output_type": "stream",
          "name": "stdout",
          "text": [
            "\t{\n",
            "\t\t\"heteronyms\": [\n",
            "\t\t\t{\n",
            "\t\t\t\t\"bopomofo\": \"ㄐㄧㄠˋ ㄕˋ\",\n",
            "\t\t\t\t\"bopomofo2\": \"jiàu shr̀\",\n",
            "\t\t\t\t\"definitions\": [\n",
            "\t\t\t\t\t{\n",
            "\t\t\t\t\t\t\"def\": \"學校裡進行教學活動的房間。\",\n",
            "\t\t\t\t\t\t\"example\": [\n",
            "\t\t\t\t\t\t\t\"如：「實驗教室」、「音樂教室」。\"\n",
            "\t\t\t\t\t\t],\n",
            "\t\t\t\t\t\t\"synonyms\": \"課堂,講堂\"\n",
            "\t\t\t\t\t}\n",
            "\t\t\t\t],\n",
            "\t\t\t\t\"pinyin\": \"jiào shì\"\n",
            "\t\t\t}\n",
            "\t\t],\n",
            "\t\t\"title\": \"教室\"\n",
            "\t}\n"
          ]
        }
      ]
    },
    {
      "cell_type": "code",
      "source": [
        "data = json.loads(r.text)\n",
        "type(data)"
      ],
      "metadata": {
        "colab": {
          "base_uri": "https://localhost:8080/"
        },
        "id": "SZHrQycVUvDa",
        "outputId": "39032581-90fc-4332-eb64-05b21b7fb8cb"
      },
      "execution_count": 75,
      "outputs": [
        {
          "output_type": "execute_result",
          "data": {
            "text/plain": [
              "dict"
            ]
          },
          "metadata": {},
          "execution_count": 75
        }
      ]
    },
    {
      "cell_type": "code",
      "source": [
        "data"
      ],
      "metadata": {
        "colab": {
          "base_uri": "https://localhost:8080/"
        },
        "id": "llav7_EdVA4k",
        "outputId": "f67dfd21-d664-4624-a957-5000aee4521b"
      },
      "execution_count": 74,
      "outputs": [
        {
          "output_type": "execute_result",
          "data": {
            "text/plain": [
              "{'heteronyms': [{'bopomofo': 'ㄐㄧㄠˋ ㄕˋ',\n",
              "   'bopomofo2': 'jiàu shr̀',\n",
              "   'definitions': [{'def': '學校裡進行教學活動的房間。',\n",
              "     'example': ['如：「實驗教室」、「音樂教室」。'],\n",
              "     'synonyms': '課堂,講堂'}],\n",
              "   'pinyin': 'jiào shì'}],\n",
              " 'title': '教室'}"
            ]
          },
          "metadata": {},
          "execution_count": 74
        }
      ]
    },
    {
      "cell_type": "code",
      "source": [
        "data[\"heteronyms\"]"
      ],
      "metadata": {
        "colab": {
          "base_uri": "https://localhost:8080/"
        },
        "id": "6a7tmepNVGpq",
        "outputId": "44a2e1f5-b037-405f-aee9-be9864ba3843"
      },
      "execution_count": 79,
      "outputs": [
        {
          "output_type": "execute_result",
          "data": {
            "text/plain": [
              "[{'bopomofo': 'ㄐㄧㄠˋ ㄕˋ',\n",
              "  'bopomofo2': 'jiàu shr̀',\n",
              "  'definitions': [{'def': '學校裡進行教學活動的房間。',\n",
              "    'example': ['如：「實驗教室」、「音樂教室」。'],\n",
              "    'synonyms': '課堂,講堂'}],\n",
              "  'pinyin': 'jiào shì'}]"
            ]
          },
          "metadata": {},
          "execution_count": 79
        }
      ]
    },
    {
      "cell_type": "code",
      "source": [
        "type(data[\"heteronyms\"])"
      ],
      "metadata": {
        "colab": {
          "base_uri": "https://localhost:8080/"
        },
        "id": "rj4omeM3W18z",
        "outputId": "d4b8a126-5233-4ce0-86b6-01093852d468"
      },
      "execution_count": 82,
      "outputs": [
        {
          "output_type": "execute_result",
          "data": {
            "text/plain": [
              "list"
            ]
          },
          "metadata": {},
          "execution_count": 82
        }
      ]
    },
    {
      "cell_type": "code",
      "source": [
        "len(data[\"heteronyms\"])"
      ],
      "metadata": {
        "colab": {
          "base_uri": "https://localhost:8080/"
        },
        "id": "riyHytAxW-d7",
        "outputId": "f9976c7e-04d5-4b09-bb18-a908ae211b4a"
      },
      "execution_count": 83,
      "outputs": [
        {
          "output_type": "execute_result",
          "data": {
            "text/plain": [
              "1"
            ]
          },
          "metadata": {},
          "execution_count": 83
        }
      ]
    },
    {
      "cell_type": "code",
      "source": [
        "data[\"heteronyms\"][0][\"definitions\"][0][\"def\"]"
      ],
      "metadata": {
        "colab": {
          "base_uri": "https://localhost:8080/",
          "height": 35
        },
        "id": "E6euMI7KWipm",
        "outputId": "ae3f8710-3c16-4ff4-bf7b-783ad25cb607"
      },
      "execution_count": 80,
      "outputs": [
        {
          "output_type": "execute_result",
          "data": {
            "text/plain": [
              "'學校裡進行教學活動的房間。'"
            ],
            "application/vnd.google.colaboratory.intrinsic+json": {
              "type": "string"
            }
          },
          "metadata": {},
          "execution_count": 80
        }
      ]
    },
    {
      "cell_type": "markdown",
      "source": [
        "#### 方法二"
      ],
      "metadata": {
        "id": "RABnJhIaX4EX"
      }
    },
    {
      "cell_type": "code",
      "source": [
        "import requests\n",
        "import json\n",
        "q = \"教室\"\n",
        "url = \"https://www.moedict.tw/uni/\" + q"
      ],
      "metadata": {
        "id": "lEqnfpGbX6WO"
      },
      "execution_count": 84,
      "outputs": []
    },
    {
      "cell_type": "code",
      "source": [
        "# 直接將抓取 json 資料跟剖析 json 資料寫在一起\n",
        "data = requests.get(url).json()"
      ],
      "metadata": {
        "id": "wNJxuDwvYX5V"
      },
      "execution_count": 86,
      "outputs": []
    },
    {
      "cell_type": "code",
      "source": [
        "# 取得所需資訊\n",
        "data[\"heteronyms\"][0][\"definitions\"][0][\"def\"]"
      ],
      "metadata": {
        "colab": {
          "base_uri": "https://localhost:8080/",
          "height": 35
        },
        "id": "UH_Nm7YpYjMP",
        "outputId": "fc97e3eb-805f-4f1b-ec0e-941b46e63199"
      },
      "execution_count": 87,
      "outputs": [
        {
          "output_type": "execute_result",
          "data": {
            "text/plain": [
              "'學校裡進行教學活動的房間。'"
            ],
            "application/vnd.google.colaboratory.intrinsic+json": {
              "type": "string"
            }
          },
          "metadata": {},
          "execution_count": 87
        }
      ]
    },
    {
      "cell_type": "markdown",
      "source": [
        "#### 將方法二寫成函式來使用"
      ],
      "metadata": {
        "id": "NfSIemH-ZARi"
      }
    },
    {
      "cell_type": "code",
      "source": [
        "def lookup(q):\n",
        "  url = \"https://www.moedict.tw/uni/\" + q\n",
        "  data = requests.get(url).json()\n",
        "  return data[\"heteronyms\"][0][\"definitions\"][0][\"def\"]"
      ],
      "metadata": {
        "id": "fmsxmAzFZDiM"
      },
      "execution_count": 88,
      "outputs": []
    },
    {
      "cell_type": "code",
      "source": [
        "lookup(\"教室\")"
      ],
      "metadata": {
        "colab": {
          "base_uri": "https://localhost:8080/",
          "height": 35
        },
        "id": "qoifxRcnZ9Re",
        "outputId": "2adcebb3-113d-4bc3-b680-19a760630842"
      },
      "execution_count": 90,
      "outputs": [
        {
          "output_type": "execute_result",
          "data": {
            "text/plain": [
              "'學校裡進行教學活動的房間。'"
            ],
            "application/vnd.google.colaboratory.intrinsic+json": {
              "type": "string"
            }
          },
          "metadata": {},
          "execution_count": 90
        }
      ]
    },
    {
      "cell_type": "code",
      "source": [
        "lookup(\"漢堡\")"
      ],
      "metadata": {
        "colab": {
          "base_uri": "https://localhost:8080/",
          "height": 35
        },
        "id": "AhGvGXffaFYp",
        "outputId": "c3cc3f5b-f1d8-4015-c1f9-6402c260cad5"
      },
      "execution_count": 91,
      "outputs": [
        {
          "output_type": "execute_result",
          "data": {
            "text/plain": [
              "'城市名。(Hamburg）位於德國北部易北河的下游。有設備優良的海港，商業繁盛，貿易以咖啡、棉花、酒類為大宗，煉油、造船、汽車工業均很發達，是德國第一大港。'"
            ],
            "application/vnd.google.colaboratory.intrinsic+json": {
              "type": "string"
            }
          },
          "metadata": {},
          "execution_count": 91
        }
      ]
    },
    {
      "cell_type": "markdown",
      "source": [
        "#### requests.get(url).json() 是什麼？\n",
        "\n",
        "底下兩個東西是一樣的\n",
        "\n",
        "作法一\n",
        "```python\n",
        "import requests\n",
        "import json\n",
        "\n",
        "r = requests.get(url)\n",
        "data = json.loads(r.text)\n",
        "```\n",
        "\n",
        "作法二\n",
        "```python\n",
        "import requests\n",
        "data = requests.get(url).json()\n"
      ],
      "metadata": {
        "id": "d76tuuiYbtA_"
      }
    },
    {
      "cell_type": "markdown",
      "source": [
        "### 讀取 0050 成分股\n",
        "\n",
        "https://www.yuantaetfs.com/api/StkWeights?date=&fundid=1066\n"
      ],
      "metadata": {
        "id": "9CoYaDtjd8uQ"
      }
    },
    {
      "cell_type": "code",
      "source": [
        "import requests\n",
        "import json\n",
        "\n",
        "url = \"https://www.yuantaetfs.com/api/StkWeights?date=&fundid=1066\"\n",
        "data = requests.get(url).json()\n",
        "data"
      ],
      "metadata": {
        "colab": {
          "base_uri": "https://localhost:8080/"
        },
        "id": "sGVw9zRXeGY5",
        "outputId": "94c3cdc0-b898-4efc-b332-318afbcf68c3"
      },
      "execution_count": 93,
      "outputs": [
        {
          "output_type": "execute_result",
          "data": {
            "text/plain": [
              "[{'code': '2330',\n",
              "  'ym': None,\n",
              "  'name': '台積電',\n",
              "  'ename': 'Taiwan Semiconductor Manufacturing Co. Ltd.',\n",
              "  'weights': 48.73,\n",
              "  'qty': 246120278.0},\n",
              " {'code': '2317',\n",
              "  'ym': None,\n",
              "  'name': '鴻海',\n",
              "  'ename': 'HON HAI PRECISION IND. CO. LTD.',\n",
              "  'weights': 4.51,\n",
              "  'qty': 122305400.0},\n",
              " {'code': '2454',\n",
              "  'ym': None,\n",
              "  'name': '聯發科',\n",
              "  'ename': 'MediaTek Inc.',\n",
              "  'weights': 4.1,\n",
              "  'qty': 15248561.0},\n",
              " {'code': '2308',\n",
              "  'ym': None,\n",
              "  'name': '台達電',\n",
              "  'ename': 'DELTA ELECTRONICS INC.',\n",
              "  'weights': 2.36,\n",
              "  'qty': 22141605.0},\n",
              " {'code': '2303',\n",
              "  'ym': None,\n",
              "  'name': '聯電',\n",
              "  'ename': 'UNITED MICROELECTRONICS CORP.',\n",
              "  'weights': 2.21,\n",
              "  'qty': 119992423.0},\n",
              " {'code': '2881',\n",
              "  'ym': None,\n",
              "  'name': '富邦金',\n",
              "  'ename': 'Fubon Financial Holding Co. Ltd.',\n",
              "  'weights': 1.62,\n",
              "  'qty': 75568931.0},\n",
              " {'code': '2412',\n",
              "  'ym': None,\n",
              "  'name': '中華電',\n",
              "  'ename': 'Chunghwa Telecom Co. Ltd',\n",
              "  'weights': 1.6,\n",
              "  'qty': 38981167.0},\n",
              " {'code': '1303',\n",
              "  'ym': None,\n",
              "  'name': '南亞',\n",
              "  'ename': 'NAN YA PLASTICS CORPORATION',\n",
              "  'weights': 1.56,\n",
              "  'qty': 57880391.0},\n",
              " {'code': '2891',\n",
              "  'ym': None,\n",
              "  'name': '中信金',\n",
              "  'ename': 'CTBC FINANCIAL HOLDING CO. LTD.',\n",
              "  'weights': 1.52,\n",
              "  'qty': 185988205.0},\n",
              " {'code': '2002',\n",
              "  'ym': None,\n",
              "  'name': '中鋼',\n",
              "  'ename': 'China Steel Corporation',\n",
              "  'weights': 1.43,\n",
              "  'qty': 126394577.0},\n",
              " {'code': '2882',\n",
              "  'ym': None,\n",
              "  'name': '國泰金',\n",
              "  'ename': 'CATHAY FINANCIAL HOLDING CO. LTD.',\n",
              "  'weights': 1.42,\n",
              "  'qty': 91602832.0},\n",
              " {'code': '2886',\n",
              "  'ym': None,\n",
              "  'name': '兆豐金',\n",
              "  'ename': 'Mega Financial Holding Company Ltd.',\n",
              "  'weights': 1.35,\n",
              "  'qty': 114362664.0},\n",
              " {'code': '3711',\n",
              "  'ym': None,\n",
              "  'name': '日月光投控',\n",
              "  'ename': 'ASE Technology Holding Co. Ltd.',\n",
              "  'weights': 1.34,\n",
              "  'qty': 34886744.0},\n",
              " {'code': '2884',\n",
              "  'ym': None,\n",
              "  'name': '玉山金',\n",
              "  'ename': 'E.SUN FINANCIAL HOLDING COMPANYLTD.',\n",
              "  'weights': 1.25,\n",
              "  'qty': 138873462.0},\n",
              " {'code': '1301',\n",
              "  'ym': None,\n",
              "  'name': '台塑',\n",
              "  'ename': 'Formosa Plastics Corporation',\n",
              "  'weights': 1.24,\n",
              "  'qty': 38231086.0},\n",
              " {'code': '5871',\n",
              "  'ym': None,\n",
              "  'name': '中租-KY',\n",
              "  'ename': 'Chailease Holding Company Limited',\n",
              "  'weights': 1.2,\n",
              "  'qty': 14144085.0},\n",
              " {'code': '1216',\n",
              "  'ym': None,\n",
              "  'name': '統一',\n",
              "  'ename': 'UNI-PRESIDENT ENTERPRISES CORP.',\n",
              "  'weights': 1.19,\n",
              "  'qty': 49132681.0},\n",
              " {'code': '2892',\n",
              "  'ym': None,\n",
              "  'name': '第一金',\n",
              "  'ename': 'First  Financial  Holding  Co.  Ltd.',\n",
              "  'weights': 1.02,\n",
              "  'qty': 106817864.0},\n",
              " {'code': '2885',\n",
              "  'ym': None,\n",
              "  'name': '元大金',\n",
              "  'ename': 'Yuanta Financial Holding Co. Ltd',\n",
              "  'weights': 1.02,\n",
              "  'qty': 122755367.0},\n",
              " {'code': '5880',\n",
              "  'ym': None,\n",
              "  'name': '合庫金',\n",
              "  'ename': 'Taiwan Cooperative Financial Holding Co.Ltd.',\n",
              "  'weights': 1.0,\n",
              "  'qty': 103436952.0},\n",
              " {'code': '1326',\n",
              "  'ym': None,\n",
              "  'name': '台化',\n",
              "  'ename': 'FORMOSA CHEMICALS & FIBRE CORPORATION',\n",
              "  'weights': 0.9,\n",
              "  'qty': 35087873.0},\n",
              " {'code': '1101',\n",
              "  'ym': None,\n",
              "  'name': '台泥',\n",
              "  'ename': 'Taiwan Cement Corp.',\n",
              "  'weights': 0.87,\n",
              "  'qty': 64754131.0},\n",
              " {'code': '3008',\n",
              "  'ym': None,\n",
              "  'name': '大立光',\n",
              "  'ename': 'LARGAN Precision Co.Ltd',\n",
              "  'weights': 0.86,\n",
              "  'qty': 1050671.0},\n",
              " {'code': '2880',\n",
              "  'ym': None,\n",
              "  'name': '華南金',\n",
              "  'ename': 'HUA NAN FINANCIAL HOLDINGS CO.LTD.',\n",
              "  'weights': 0.86,\n",
              "  'qty': 104118718.0},\n",
              " {'code': '3034',\n",
              "  'ym': None,\n",
              "  'name': '聯詠',\n",
              "  'ename': 'NOVATEK MICROELECTRONICS CORP.',\n",
              "  'weights': 0.82,\n",
              "  'qty': 5865565.0},\n",
              " {'code': '2382',\n",
              "  'ym': None,\n",
              "  'name': '廣達',\n",
              "  'ename': 'QUANTA COMPUTER INC.',\n",
              "  'weights': 0.77,\n",
              "  'qty': 27268460.0},\n",
              " {'code': '6415',\n",
              "  'ym': None,\n",
              "  'name': '矽力*-KY',\n",
              "  'ename': 'Silergy Corp.',\n",
              "  'weights': 0.76,\n",
              "  'qty': 3317515.0},\n",
              " {'code': '2883',\n",
              "  'ym': None,\n",
              "  'name': '開發金',\n",
              "  'ename': 'CHINA DEVELOPMENT FINANCIAL HOLDING CORP.',\n",
              "  'weights': 0.76,\n",
              "  'qty': 161503344.0},\n",
              " {'code': '2327',\n",
              "  'ym': None,\n",
              "  'name': '國巨',\n",
              "  'ename': 'YAGEO CORPORATION',\n",
              "  'weights': 0.75,\n",
              "  'qty': 4002627.0},\n",
              " {'code': '2207',\n",
              "  'ym': None,\n",
              "  'name': '和泰車',\n",
              "  'ename': 'HOTAI MOTOR CO.LTD.',\n",
              "  'weights': 0.74,\n",
              "  'qty': 3268973.0},\n",
              " {'code': '2357',\n",
              "  'ym': None,\n",
              "  'name': '華碩',\n",
              "  'ename': 'ASUSTEK COMPUTER INC.',\n",
              "  'weights': 0.71,\n",
              "  'qty': 7228285.0},\n",
              " {'code': '2887',\n",
              "  'ym': None,\n",
              "  'name': '台新金',\n",
              "  'ename': 'Taishin Financial Holding Co. Ltd.',\n",
              "  'weights': 0.68,\n",
              "  'qty': 116495910.0},\n",
              " {'code': '2890',\n",
              "  'ym': None,\n",
              "  'name': '永豐金',\n",
              "  'ename': 'SINOPAC  FINANCIAL HOLDINGS COMPANY LIMITED',\n",
              "  'weights': 0.68,\n",
              "  'qty': 108573634.0},\n",
              " {'code': '1590',\n",
              "  'ym': None,\n",
              "  'name': '亞德客-KY',\n",
              "  'ename': 'AIRTAC INTERNATIONAL GROUP',\n",
              "  'weights': 0.63,\n",
              "  'qty': 1600046.0},\n",
              " {'code': '2379',\n",
              "  'ym': None,\n",
              "  'name': '瑞昱',\n",
              "  'ename': 'Realtek Semiconductor Corporation',\n",
              "  'weights': 0.63,\n",
              "  'qty': 4874788.0},\n",
              " {'code': '3045',\n",
              "  'ym': None,\n",
              "  'name': '台灣大',\n",
              "  'ename': 'TAIWAN  MOBILE  CO. LTD.',\n",
              "  'weights': 0.62,\n",
              "  'qty': 17684259.0},\n",
              " {'code': '5876',\n",
              "  'ym': None,\n",
              "  'name': '上海商銀',\n",
              "  'ename': 'THE SHANGHAI COMMERCIAL & SAVINGS BANK LTD.',\n",
              "  'weights': 0.62,\n",
              "  'qty': 36040157.0},\n",
              " {'code': '3037',\n",
              "  'ym': None,\n",
              "  'name': '欣興',\n",
              "  'ename': 'Unimicron Technology Corp.',\n",
              "  'weights': 0.6,\n",
              "  'qty': 12895441.0},\n",
              " {'code': '2912',\n",
              "  'ym': None,\n",
              "  'name': '統一超',\n",
              "  'ename': 'PRESIDENT CHAIN STORE CORPORATION',\n",
              "  'weights': 0.56,\n",
              "  'qty': 5752852.0},\n",
              " {'code': '2395',\n",
              "  'ym': None,\n",
              "  'name': '研華',\n",
              "  'ename': 'ADVANTECH Co. Ltd.',\n",
              "  'weights': 0.55,\n",
              "  'qty': 4233348.0},\n",
              " {'code': '2603',\n",
              "  'ym': None,\n",
              "  'name': '長榮',\n",
              "  'ename': 'EVERGREEN MARINE CORP. (TAIWAN) LTD.',\n",
              "  'weights': 0.55,\n",
              "  'qty': 10309167.0},\n",
              " {'code': '1402',\n",
              "  'ym': None,\n",
              "  'name': '遠東新',\n",
              "  'ename': 'Far Eastern New Century Corporation',\n",
              "  'weights': 0.47,\n",
              "  'qty': 40210277.0},\n",
              " {'code': '2801',\n",
              "  'ym': None,\n",
              "  'name': '彰銀',\n",
              "  'ename': 'CHANG HWA COMMERCIAL BANK LTD.',\n",
              "  'weights': 0.43,\n",
              "  'qty': 67919862.0},\n",
              " {'code': '6505',\n",
              "  'ym': None,\n",
              "  'name': '台塑化',\n",
              "  'ename': 'Formosa Petrochemical Corp',\n",
              "  'weights': 0.42,\n",
              "  'qty': 13988798.0},\n",
              " {'code': '4904',\n",
              "  'ym': None,\n",
              "  'name': '遠傳',\n",
              "  'ename': 'Far EasTone Telecommunications Co. Ltd.',\n",
              "  'weights': 0.4,\n",
              "  'qty': 16373549.0},\n",
              " {'code': '2615',\n",
              "  'ym': None,\n",
              "  'name': '萬海',\n",
              "  'ename': 'WAN HAI LINES LTD.',\n",
              "  'weights': 0.39,\n",
              "  'qty': 14386012.0},\n",
              " {'code': '2609',\n",
              "  'ym': None,\n",
              "  'name': '陽明',\n",
              "  'ename': 'Yang Ming Marine Transport Corp.',\n",
              "  'weights': 0.39,\n",
              "  'qty': 17902014.0},\n",
              " {'code': '9910',\n",
              "  'ym': None,\n",
              "  'name': '豐泰',\n",
              "  'ename': 'FENG TAY ENTERPRISES CO. LTD.',\n",
              "  'weights': 0.31,\n",
              "  'qty': 4520752.0},\n",
              " {'code': '8046',\n",
              "  'ym': None,\n",
              "  'name': '南電',\n",
              "  'ename': 'NAN YA PRINTED CIRCUIT BOARD CORPORATION',\n",
              "  'weights': 0.19,\n",
              "  'qty': 2153132.0},\n",
              " {'code': '2408',\n",
              "  'ym': None,\n",
              "  'name': '南亞科',\n",
              "  'ename': 'NANYA TECHNOLOGY CORPORATION',\n",
              "  'weights': 0.18,\n",
              "  'qty': 8388112.0}]"
            ]
          },
          "metadata": {},
          "execution_count": 93
        }
      ]
    },
    {
      "cell_type": "code",
      "source": [
        "for i in data:\n",
        "  print(i[\"code\"], \":\", i[\"name\"])"
      ],
      "metadata": {
        "colab": {
          "base_uri": "https://localhost:8080/"
        },
        "id": "IBSuHYmaed3f",
        "outputId": "51f43fb7-7296-4e66-e1c1-7d60a884ce69"
      },
      "execution_count": 94,
      "outputs": [
        {
          "output_type": "stream",
          "name": "stdout",
          "text": [
            "2330 : 台積電\n",
            "2317 : 鴻海\n",
            "2454 : 聯發科\n",
            "2308 : 台達電\n",
            "2303 : 聯電\n",
            "2881 : 富邦金\n",
            "2412 : 中華電\n",
            "1303 : 南亞\n",
            "2891 : 中信金\n",
            "2002 : 中鋼\n",
            "2882 : 國泰金\n",
            "2886 : 兆豐金\n",
            "3711 : 日月光投控\n",
            "2884 : 玉山金\n",
            "1301 : 台塑\n",
            "5871 : 中租-KY\n",
            "1216 : 統一\n",
            "2892 : 第一金\n",
            "2885 : 元大金\n",
            "5880 : 合庫金\n",
            "1326 : 台化\n",
            "1101 : 台泥\n",
            "3008 : 大立光\n",
            "2880 : 華南金\n",
            "3034 : 聯詠\n",
            "2382 : 廣達\n",
            "6415 : 矽力*-KY\n",
            "2883 : 開發金\n",
            "2327 : 國巨\n",
            "2207 : 和泰車\n",
            "2357 : 華碩\n",
            "2887 : 台新金\n",
            "2890 : 永豐金\n",
            "1590 : 亞德客-KY\n",
            "2379 : 瑞昱\n",
            "3045 : 台灣大\n",
            "5876 : 上海商銀\n",
            "3037 : 欣興\n",
            "2912 : 統一超\n",
            "2395 : 研華\n",
            "2603 : 長榮\n",
            "1402 : 遠東新\n",
            "2801 : 彰銀\n",
            "6505 : 台塑化\n",
            "4904 : 遠傳\n",
            "2615 : 萬海\n",
            "2609 : 陽明\n",
            "9910 : 豐泰\n",
            "8046 : 南電\n",
            "2408 : 南亞科\n"
          ]
        }
      ]
    }
  ]
}